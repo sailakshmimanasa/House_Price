{
 "cells": [
  {
   "cell_type": "code",
   "execution_count": 1,
   "id": "c48495d1-707f-45ad-b1a5-ff809cb18d67",
   "metadata": {},
   "outputs": [],
   "source": [
    "import pandas as pd\n"
   ]
  },
  {
   "cell_type": "code",
   "execution_count": 2,
   "id": "574ec70f-e398-475b-aef1-ab4bd565a446",
   "metadata": {},
   "outputs": [],
   "source": [
    "data=pd.read_csv(\"House.csv\")"
   ]
  },
  {
   "cell_type": "code",
   "execution_count": 3,
   "id": "530ff651-2ccd-470d-8bd2-420a431d4170",
   "metadata": {},
   "outputs": [
    {
     "data": {
      "text/html": [
       "<div>\n",
       "<style scoped>\n",
       "    .dataframe tbody tr th:only-of-type {\n",
       "        vertical-align: middle;\n",
       "    }\n",
       "\n",
       "    .dataframe tbody tr th {\n",
       "        vertical-align: top;\n",
       "    }\n",
       "\n",
       "    .dataframe thead th {\n",
       "        text-align: right;\n",
       "    }\n",
       "</style>\n",
       "<table border=\"1\" class=\"dataframe\">\n",
       "  <thead>\n",
       "    <tr style=\"text-align: right;\">\n",
       "      <th></th>\n",
       "      <th>Bedrooms</th>\n",
       "      <th>Bathrooms</th>\n",
       "      <th>Status</th>\n",
       "      <th>Location</th>\n",
       "      <th>Price</th>\n",
       "      <th>Facing</th>\n",
       "      <th>Type</th>\n",
       "      <th>Size</th>\n",
       "    </tr>\n",
       "  </thead>\n",
       "  <tbody>\n",
       "    <tr>\n",
       "      <th>0</th>\n",
       "      <td>3</td>\n",
       "      <td>0</td>\n",
       "      <td>3</td>\n",
       "      <td>89</td>\n",
       "      <td>119.0</td>\n",
       "      <td>1</td>\n",
       "      <td>0</td>\n",
       "      <td>2215</td>\n",
       "    </tr>\n",
       "    <tr>\n",
       "      <th>1</th>\n",
       "      <td>3</td>\n",
       "      <td>0</td>\n",
       "      <td>3</td>\n",
       "      <td>78</td>\n",
       "      <td>168.0</td>\n",
       "      <td>1</td>\n",
       "      <td>0</td>\n",
       "      <td>2245</td>\n",
       "    </tr>\n",
       "    <tr>\n",
       "      <th>2</th>\n",
       "      <td>3</td>\n",
       "      <td>0</td>\n",
       "      <td>3</td>\n",
       "      <td>88</td>\n",
       "      <td>148.0</td>\n",
       "      <td>1</td>\n",
       "      <td>0</td>\n",
       "      <td>2004</td>\n",
       "    </tr>\n",
       "    <tr>\n",
       "      <th>3</th>\n",
       "      <td>2</td>\n",
       "      <td>0</td>\n",
       "      <td>3</td>\n",
       "      <td>65</td>\n",
       "      <td>162.0</td>\n",
       "      <td>1</td>\n",
       "      <td>0</td>\n",
       "      <td>2038</td>\n",
       "    </tr>\n",
       "    <tr>\n",
       "      <th>4</th>\n",
       "      <td>3</td>\n",
       "      <td>0</td>\n",
       "      <td>1</td>\n",
       "      <td>82</td>\n",
       "      <td>144.0</td>\n",
       "      <td>1</td>\n",
       "      <td>0</td>\n",
       "      <td>2150</td>\n",
       "    </tr>\n",
       "    <tr>\n",
       "      <th>...</th>\n",
       "      <td>...</td>\n",
       "      <td>...</td>\n",
       "      <td>...</td>\n",
       "      <td>...</td>\n",
       "      <td>...</td>\n",
       "      <td>...</td>\n",
       "      <td>...</td>\n",
       "      <td>...</td>\n",
       "    </tr>\n",
       "    <tr>\n",
       "      <th>545</th>\n",
       "      <td>8</td>\n",
       "      <td>4</td>\n",
       "      <td>1</td>\n",
       "      <td>64</td>\n",
       "      <td>625.0</td>\n",
       "      <td>1</td>\n",
       "      <td>5</td>\n",
       "      <td>4795</td>\n",
       "    </tr>\n",
       "    <tr>\n",
       "      <th>546</th>\n",
       "      <td>3</td>\n",
       "      <td>3</td>\n",
       "      <td>1</td>\n",
       "      <td>64</td>\n",
       "      <td>101.0</td>\n",
       "      <td>1</td>\n",
       "      <td>5</td>\n",
       "      <td>1726</td>\n",
       "    </tr>\n",
       "    <tr>\n",
       "      <th>547</th>\n",
       "      <td>3</td>\n",
       "      <td>3</td>\n",
       "      <td>3</td>\n",
       "      <td>103</td>\n",
       "      <td>122.0</td>\n",
       "      <td>0</td>\n",
       "      <td>2</td>\n",
       "      <td>2040</td>\n",
       "    </tr>\n",
       "    <tr>\n",
       "      <th>548</th>\n",
       "      <td>3</td>\n",
       "      <td>3</td>\n",
       "      <td>1</td>\n",
       "      <td>60</td>\n",
       "      <td>205.0</td>\n",
       "      <td>1</td>\n",
       "      <td>5</td>\n",
       "      <td>1926</td>\n",
       "    </tr>\n",
       "    <tr>\n",
       "      <th>549</th>\n",
       "      <td>5</td>\n",
       "      <td>0</td>\n",
       "      <td>1</td>\n",
       "      <td>141</td>\n",
       "      <td>300.0</td>\n",
       "      <td>1</td>\n",
       "      <td>0</td>\n",
       "      <td>2450</td>\n",
       "    </tr>\n",
       "  </tbody>\n",
       "</table>\n",
       "<p>550 rows × 8 columns</p>\n",
       "</div>"
      ],
      "text/plain": [
       "     Bedrooms  Bathrooms  Status  Location  Price  Facing  Type  Size\n",
       "0           3          0       3        89  119.0       1     0  2215\n",
       "1           3          0       3        78  168.0       1     0  2245\n",
       "2           3          0       3        88  148.0       1     0  2004\n",
       "3           2          0       3        65  162.0       1     0  2038\n",
       "4           3          0       1        82  144.0       1     0  2150\n",
       "..        ...        ...     ...       ...    ...     ...   ...   ...\n",
       "545         8          4       1        64  625.0       1     5  4795\n",
       "546         3          3       1        64  101.0       1     5  1726\n",
       "547         3          3       3       103  122.0       0     2  2040\n",
       "548         3          3       1        60  205.0       1     5  1926\n",
       "549         5          0       1       141  300.0       1     0  2450\n",
       "\n",
       "[550 rows x 8 columns]"
      ]
     },
     "execution_count": 3,
     "metadata": {},
     "output_type": "execute_result"
    }
   ],
   "source": [
    "data"
   ]
  },
  {
   "cell_type": "code",
   "execution_count": 4,
   "id": "ad23d848-5a0b-45c2-98a6-4f08a126f354",
   "metadata": {},
   "outputs": [
    {
     "name": "stdout",
     "output_type": "stream",
     "text": [
      "Requirement already satisfied: requests in c:\\users\\admin\\desktop\\kits\\kitscse\\lib\\site-packages (2.31.0)\n",
      "Requirement already satisfied: charset-normalizer<4,>=2 in c:\\users\\admin\\desktop\\kits\\kitscse\\lib\\site-packages (from requests) (3.3.2)\n",
      "Requirement already satisfied: idna<4,>=2.5 in c:\\users\\admin\\desktop\\kits\\kitscse\\lib\\site-packages (from requests) (3.6)\n",
      "Requirement already satisfied: urllib3<3,>=1.21.1 in c:\\users\\admin\\desktop\\kits\\kitscse\\lib\\site-packages (from requests) (2.1.0)\n",
      "Requirement already satisfied: certifi>=2017.4.17 in c:\\users\\admin\\desktop\\kits\\kitscse\\lib\\site-packages (from requests) (2023.11.17)\n"
     ]
    },
    {
     "name": "stderr",
     "output_type": "stream",
     "text": [
      "\n",
      "[notice] A new release of pip is available: 23.3.1 -> 23.3.2\n",
      "[notice] To update, run: python.exe -m pip install --upgrade pip\n"
     ]
    }
   ],
   "source": [
    "!pip install requests"
   ]
  },
  {
   "cell_type": "code",
   "execution_count": 5,
   "id": "49e08a7b-5aad-4c94-ac38-9a8996e813dd",
   "metadata": {},
   "outputs": [],
   "source": [
    "import requests"
   ]
  },
  {
   "cell_type": "code",
   "execution_count": 6,
   "id": "8a766776-0651-4957-a9fd-9cb411efcab2",
   "metadata": {},
   "outputs": [],
   "source": [
    "u=\"https://www.makaan.com/vijayawada-residential-property/buy-property-in-vijayawada-city\"\n",
    "data=requests.get(u)"
   ]
  },
  {
   "cell_type": "code",
   "execution_count": 7,
   "id": "fef2256a-76eb-414b-9fa0-3234f6f0dca8",
   "metadata": {},
   "outputs": [
    {
     "data": {
      "text/plain": [
       "<Response [200]>"
      ]
     },
     "execution_count": 7,
     "metadata": {},
     "output_type": "execute_result"
    }
   ],
   "source": [
    "data"
   ]
  },
  {
   "cell_type": "code",
   "execution_count": 8,
   "id": "956b24bc-ca3a-4838-bc25-39a341ed12b3",
   "metadata": {},
   "outputs": [],
   "source": [
    "def remove_outliers(df,threshold=3):\n",
    "    df_cleaned=df.copy()\n",
    "    for col in df_cleaned.select_dtypes(include=['int64','float64']).columns:\n",
    "        Q1=df_cleaned[col].quantile(0.25)#25th percentile\n",
    "        Q3=df_cleaned[col].quantile(0.25)#75th percentile\n",
    "        IQR=Q3-Q1#Interquantile range\n",
    "        lower_bound=Q1-threshold *IQR\n",
    "        upper_bound=Q3-threshold *IQR\n",
    "        df_cleaned=df_cleaned[(df_cleaned[col]>=lower_bound)&(df_cleaned[col]>=upper_bound)]\n",
    "    return df_cleaned\n",
    "    "
   ]
  },
  {
   "cell_type": "code",
   "execution_count": 9,
   "id": "2352b5a0-5c3c-4bac-acb4-b709eae0341f",
   "metadata": {},
   "outputs": [
    {
     "ename": "AttributeError",
     "evalue": "'Response' object has no attribute 'copy'",
     "output_type": "error",
     "traceback": [
      "\u001b[1;31m---------------------------------------------------------------------------\u001b[0m",
      "\u001b[1;31mAttributeError\u001b[0m                            Traceback (most recent call last)",
      "Cell \u001b[1;32mIn[9], line 1\u001b[0m\n\u001b[1;32m----> 1\u001b[0m df\u001b[38;5;241m=\u001b[39m\u001b[43mremove_outliers\u001b[49m\u001b[43m(\u001b[49m\u001b[43mdata\u001b[49m\u001b[43m)\u001b[49m\n\u001b[0;32m      2\u001b[0m df\n",
      "Cell \u001b[1;32mIn[8], line 2\u001b[0m, in \u001b[0;36mremove_outliers\u001b[1;34m(df, threshold)\u001b[0m\n\u001b[0;32m      1\u001b[0m \u001b[38;5;28;01mdef\u001b[39;00m \u001b[38;5;21mremove_outliers\u001b[39m(df,threshold\u001b[38;5;241m=\u001b[39m\u001b[38;5;241m3\u001b[39m):\n\u001b[1;32m----> 2\u001b[0m     df_cleaned\u001b[38;5;241m=\u001b[39m\u001b[43mdf\u001b[49m\u001b[38;5;241;43m.\u001b[39;49m\u001b[43mcopy\u001b[49m()\n\u001b[0;32m      3\u001b[0m     \u001b[38;5;28;01mfor\u001b[39;00m col \u001b[38;5;129;01min\u001b[39;00m df_cleaned\u001b[38;5;241m.\u001b[39mselect_dtypes(include\u001b[38;5;241m=\u001b[39m[\u001b[38;5;124m'\u001b[39m\u001b[38;5;124mint64\u001b[39m\u001b[38;5;124m'\u001b[39m,\u001b[38;5;124m'\u001b[39m\u001b[38;5;124mfloat64\u001b[39m\u001b[38;5;124m'\u001b[39m])\u001b[38;5;241m.\u001b[39mcolumns:\n\u001b[0;32m      4\u001b[0m         Q1\u001b[38;5;241m=\u001b[39mdf_cleaned[col]\u001b[38;5;241m.\u001b[39mquantile(\u001b[38;5;241m0.25\u001b[39m)\u001b[38;5;66;03m#25th percentile\u001b[39;00m\n",
      "\u001b[1;31mAttributeError\u001b[0m: 'Response' object has no attribute 'copy'"
     ]
    }
   ],
   "source": [
    "df=remove_outliers(data)\n",
    "df"
   ]
  },
  {
   "cell_type": "code",
   "execution_count": null,
   "id": "410c6ac9-0938-4831-be14-94e105c781e0",
   "metadata": {},
   "outputs": [],
   "source": [
    "df.to_csv(\"House.csv\",index=False)\n",
    "df.info()"
   ]
  },
  {
   "cell_type": "code",
   "execution_count": null,
   "id": "c55de7ef-264a-4b4b-820f-e3de5937c3e1",
   "metadata": {},
   "outputs": [],
   "source": [
    "import pandas as pd\n",
    "import numpy as np\n",
    "df=pd.read_csv('House.csv')\n",
    "df.head()"
   ]
  },
  {
   "cell_type": "code",
   "execution_count": null,
   "id": "0228ecfe-6fae-4781-85c8-5585b85002d6",
   "metadata": {},
   "outputs": [],
   "source": [
    "df.info()"
   ]
  },
  {
   "cell_type": "code",
   "execution_count": null,
   "id": "abe5a09a-5b19-42e8-b067-21476e245fb6",
   "metadata": {},
   "outputs": [],
   "source": [
    "from sklearn.model_selection import train_test_split\n",
    "from sklearn.linear_model import LinearRegression"
   ]
  },
  {
   "cell_type": "code",
   "execution_count": null,
   "id": "e644d549-8cd9-4bd2-aeba-cc34409f8d0b",
   "metadata": {},
   "outputs": [],
   "source": [
    "a,b=np.arange(1,10).reshape(5,2),range(5)\n",
    "a,b"
   ]
  },
  {
   "cell_type": "code",
   "execution_count": null,
   "id": "644848ed-165f-4660-b581-224a15fa1d8f",
   "metadata": {},
   "outputs": [],
   "source": [
    "w,p,q,r=train_test_split(a,b,random_state=1,test_size=0.3)\n",
    "w,p,q,r"
   ]
  },
  {
   "cell_type": "code",
   "execution_count": null,
   "id": "4783e712-0bc4-4252-acfd-16252bc7e390",
   "metadata": {},
   "outputs": [],
   "source": [
    "df.info()"
   ]
  },
  {
   "cell_type": "code",
   "execution_count": null,
   "id": "00823f2f-72f3-4b26-9839-8e14b6ebb6d2",
   "metadata": {},
   "outputs": [],
   "source": [
    "df.info()"
   ]
  },
  {
   "cell_type": "code",
   "execution_count": null,
   "id": "887f4fae-b51b-41dd-8c20-75a89f1cc35e",
   "metadata": {},
   "outputs": [],
   "source": [
    "x.head()"
   ]
  },
  {
   "cell_type": "code",
   "execution_count": null,
   "id": "b7d2b220-4556-4180-8db0-32b5725ead0c",
   "metadata": {},
   "outputs": [],
   "source": [
    "y.head()"
   ]
  },
  {
   "cell_type": "code",
   "execution_count": null,
   "id": "bc710d34-a0d5-417d-9427-5feb06b8d20d",
   "metadata": {},
   "outputs": [],
   "source": [
    "x_train,x_test,y_train,y_test=train_test_split(x,y,test_size=0.3,random_state=30)"
   ]
  },
  {
   "cell_type": "code",
   "execution_count": null,
   "id": "8157a6a7-2ce5-4cc5-8c4c-8490c5bf95a1",
   "metadata": {},
   "outputs": [],
   "source": [
    "len(x_train),len(x_test)"
   ]
  },
  {
   "cell_type": "code",
   "execution_count": null,
   "id": "c0d03c90-9652-4e24-92f3-8a27bc9c4d2a",
   "metadata": {},
   "outputs": [],
   "source": [
    "lin_reg=LinearRegression()"
   ]
  },
  {
   "cell_type": "code",
   "execution_count": null,
   "id": "5788b656-c4ce-41f9-934c-5ca1a9930c04",
   "metadata": {},
   "outputs": [],
   "source": [
    "lin_reg.fit(x_train,y_train)"
   ]
  },
  {
   "cell_type": "code",
   "execution_count": null,
   "id": "32776dbe-0c10-4df6-87e1-abc28c083cf7",
   "metadata": {},
   "outputs": [],
   "source": [
    "y_preds=lin_reg.predict(x_test)#prediction values for y\n",
    "y_test                                                                                                                     \n"
   ]
  },
  {
   "cell_type": "code",
   "execution_count": null,
   "id": "48720c3c-3eef-4113-9329-db259c00eb1a",
   "metadata": {
    "scrolled": true
   },
   "outputs": [],
   "source": [
    "y_preds,x_test"
   ]
  },
  {
   "cell_type": "code",
   "execution_count": null,
   "id": "f82d03d6-9f14-4368-9db7-91c84013ae86",
   "metadata": {},
   "outputs": [],
   "source": [
    "from sklearn.metrics import r2_score,mean_squared_error"
   ]
  },
  {
   "cell_type": "code",
   "execution_count": null,
   "id": "8c20d0b0-f731-4a8c-b981-af5ad9180fe7",
   "metadata": {},
   "outputs": [],
   "source": [
    "print(\"Linear Regression Metrics/Model Evaluation:\")\n",
    "print('R-Squared Error:',r2_score(y_test,y_preds))\n",
    "print(\"Mean squared error\",mean_squared_error(y_test,y_preds))"
   ]
  },
  {
   "cell_type": "code",
   "execution_count": null,
   "id": "79e01acd-9951-42e2-9eda-5da673650180",
   "metadata": {},
   "outputs": [],
   "source": [
    "x.columns"
   ]
  },
  {
   "cell_type": "code",
   "execution_count": null,
   "id": "2cf09960-ecdf-44b7-9b31-aa28f14a6984",
   "metadata": {},
   "outputs": [],
   "source": [
    "bedrooms=int(input('Enter no of bedrooms'))\n",
    "bathrooms=int(input('Enter no of bathrooms'))\n",
    "status=int(input('Enter Status'))\n",
    "size=int(input('Enter size in sqft'))\n",
    "location=int(input('Enter location'))\n",
    "facing=int(input('enter facing'))\n",
    "Type=int(input('enter type'))\n"
   ]
  },
  {
   "cell_type": "code",
   "execution_count": null,
   "id": "a278b42b-dc88-4109-a67e-52359281f64e",
   "metadata": {},
   "outputs": [],
   "source": [
    "user_input=np.array([[bedrooms,bathrooms,status,size,location,facing,Type]])\n",
    "user_input"
   ]
  },
  {
   "cell_type": "code",
   "execution_count": null,
   "id": "f8e9038d-e5bc-4b55-8c0c-6b7604e6e592",
   "metadata": {},
   "outputs": [],
   "source": [
    "result=lin_reg.predict(user_input)[0].round(2)\n",
    "result"
   ]
  },
  {
   "cell_type": "code",
   "execution_count": null,
   "id": "acbb31ec-2478-40db-9d99-0242059f76cf",
   "metadata": {},
   "outputs": [],
   "source": [
    "import pickle\n",
    "pickle.dump(lin_reg,open('lin_model.pkl','wb'))"
   ]
  },
  {
   "cell_type": "code",
   "execution_count": null,
   "id": "725aef92-527e-43e2-b6ff-a72d05700cd6",
   "metadata": {},
   "outputs": [],
   "source": [
    "model=pickle.load(open('lin_model.pkl','rb'))\n",
    "user_input=np.array([[bedrooms,bathrooms,status,size,location,facing,Type]])\n",
    "user_input\n",
    "result=lin_reg.predict(user_input)[0].round(2)\n",
    "result\n"
   ]
  },
  {
   "cell_type": "code",
   "execution_count": null,
   "id": "c70cf033-c551-484b-982c-44ed9ded0058",
   "metadata": {},
   "outputs": [],
   "source": [
    "!pip install streamlit"
   ]
  },
  {
   "cell_type": "code",
   "execution_count": null,
   "id": "3a5e88c8-1ffb-4224-ad16-21730ca74fd8",
   "metadata": {},
   "outputs": [],
   "source": []
  }
 ],
 "metadata": {
  "kernelspec": {
   "display_name": "Python 3 (ipykernel)",
   "language": "python",
   "name": "python3"
  },
  "language_info": {
   "codemirror_mode": {
    "name": "ipython",
    "version": 3
   },
   "file_extension": ".py",
   "mimetype": "text/x-python",
   "name": "python",
   "nbconvert_exporter": "python",
   "pygments_lexer": "ipython3",
   "version": "3.10.7"
  }
 },
 "nbformat": 4,
 "nbformat_minor": 5
}
